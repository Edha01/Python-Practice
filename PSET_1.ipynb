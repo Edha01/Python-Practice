{
  "nbformat": 4,
  "nbformat_minor": 0,
  "metadata": {
    "colab": {
      "provenance": []
    },
    "kernelspec": {
      "name": "python3",
      "display_name": "Python 3"
    },
    "language_info": {
      "name": "python"
    }
  },
  "cells": [
    {
      "cell_type": "markdown",
      "source": [
        "# Exercise 1: Easy (Variables and Arithmetic)\n"
      ],
      "metadata": {
        "id": "arGn7jMfBEbZ"
      }
    },
    {
      "cell_type": "markdown",
      "source": [
        "**Task**: Create a list called `numbers` with the values `[5, 10, 15]`.  \n",
        "- Find the sum of the first and last elements of `numbers` and store it in a variable called `total_sum`.\n",
        "- Divide `total_sum` by 3 and store the result in a variable named `average`.\n",
        "- Print the type of `average`."
      ],
      "metadata": {
        "id": "NaD5cbcvDM5m"
      }
    },
    {
      "cell_type": "code",
      "source": [
        "numbers= [5, 10, 15]\n",
        "\n",
        "total_sum= numbers[0]+numbers[-1]\n",
        "\n",
        "average= total_sum/len(numbers)\n",
        "\n",
        "print(average)\n",
        "\n"
      ],
      "metadata": {
        "id": "BKiyQB98DeZo",
        "colab": {
          "base_uri": "https://localhost:8080/"
        },
        "outputId": "f30972ca-3dd3-4d18-cd38-093b4ec5f0e9"
      },
      "execution_count": 4,
      "outputs": [
        {
          "output_type": "stream",
          "name": "stdout",
          "text": [
            "6.666666666666667\n"
          ]
        }
      ]
    },
    {
      "cell_type": "markdown",
      "source": [
        "# Exercise 2: Medium (Lists and Decision Statements)"
      ],
      "metadata": {
        "id": "j8lwQihADbZ1"
      }
    },
    {
      "cell_type": "markdown",
      "source": [
        "**Task**: Create two lists, `list_a` and `list_b`, with three integers each.  \n",
        "- Print the entire list with the larger sum of elements.\n",
        "- If the sums are equal, print: `\"The lists are equal in sum.\"`"
      ],
      "metadata": {
        "id": "roNYVt0ME-CZ"
      }
    },
    {
      "cell_type": "code",
      "source": [
        "list_a=[1,2,3]\n",
        "list_b=[1,2,3]\n",
        "\n",
        "sumA= sum(list_a)\n",
        "sumB= sum(list_b)\n",
        "\n",
        "if sumA>sumB:\n",
        "  print(sumA)\n",
        "elif sumA==sumB:\n",
        "    print(\"The lists are equal in sum\")\n",
        "else:\n",
        "  print(sumB)"
      ],
      "metadata": {
        "id": "AZpkciuPFAW1",
        "colab": {
          "base_uri": "https://localhost:8080/"
        },
        "outputId": "5b29f486-f411-4351-bbda-5001d345b69e"
      },
      "execution_count": 11,
      "outputs": [
        {
          "output_type": "stream",
          "name": "stdout",
          "text": [
            "The lists are equal in sum\n"
          ]
        }
      ]
    },
    {
      "cell_type": "markdown",
      "source": [
        "# Exercise 3: Hard (Packages, List Operations, and Conditional Logic)"
      ],
      "metadata": {
        "id": "pA_TtmAVFCIL"
      }
    },
    {
      "cell_type": "markdown",
      "source": [
        "**Task**: Create a list called `data` with at least six elements of mixed data types (e.g., integers, strings, floats, and booleans).\n",
        "- Use a loop to check each element’s data type.\n",
        "- If the element is a number (either integer or float), add it to a new list called `numeric_data`.\n",
        "- If it’s a string, calculate the length of the string and append it to a list called `string_lengths`.\n",
        "- Finally, print the mean and median of `numeric_data`. You can use the `statistics` package to find the median, but you will need to make your own mean function."
      ],
      "metadata": {
        "id": "yyoRaCqSFF5s"
      }
    },
    {
      "cell_type": "markdown",
      "source": [
        "\n",
        "*This goes against what I had initially said about lists needing to have elements of the same data type. This is more of a good practice thing, than an actual rule in python.*"
      ],
      "metadata": {
        "id": "gTz7nw2TDddY"
      }
    },
    {
      "cell_type": "code",
      "source": [
        "data= [1, \"one\", 1.5, True, 2, 2.5]\n",
        "numeric_data=[]\n",
        "string_length=[]\n",
        "\n",
        "for i in data:\n",
        "  if type(i)==int or type(i)==float:\n",
        "    numeric_data.append(i)\n",
        "  elif type(i)==str:\n",
        "    a=len(i)\n",
        "    string_length.append(a)\n",
        "\n",
        "print(numeric_data)\n",
        "print(string_length)\n",
        "\n",
        "import statistics\n",
        "\n",
        "print(statistics.median(numeric_data))\n",
        "\n",
        "def mean(numeric_data):\n",
        "  avg= sum(numeric_data)/len(numeric_data)\n",
        "  return avg\n",
        "\n",
        "print(mean(numeric_data))\n"
      ],
      "metadata": {
        "id": "JeEzRkuBFFKu",
        "colab": {
          "base_uri": "https://localhost:8080/"
        },
        "outputId": "9f0478fd-8adc-451d-ec6d-bfb4f20cd6fc"
      },
      "execution_count": 30,
      "outputs": [
        {
          "output_type": "stream",
          "name": "stdout",
          "text": [
            "[1, 1.5, 2, 2.5]\n",
            "[3]\n",
            "1.75\n",
            "1.75\n"
          ]
        }
      ]
    }
  ]
}